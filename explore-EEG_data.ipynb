{
 "cells": [
  {
   "cell_type": "code",
   "execution_count": null,
   "metadata": {},
   "outputs": [],
   "source": [
    "\"\"\"\n",
    "created by:\n",
    "Nick Roseveare, Nov 2018, nicholasroseveare AT gmail.com\n",
    "\"\"\""
   ]
  },
  {
   "cell_type": "markdown",
   "metadata": {},
   "source": [
    "## NOTES\n",
    "Starting with the dataset available here: https://archive.ics.uci.edu/ml/datasets/EEG+Database, can ID the major class? How about the individual subjects?\n",
    "\n",
    "Looking at this reference on EEG: https://en.wikipedia.org/wiki/Electroencephalography\n",
    "a cursory review shows that Beta and Gamma waves 16-32Hz, and >32Hz are most related to active thinking, and even short-term memory/pattern matching tasks.\n",
    "\n",
    "## Existing open-source work\n",
    "   * ARL EEG ML models https://github.com/vlawhern/arl-eegmodels with paper http://iopscience.iop.org/article/10.1088/1741-2552/aae5d8 (and others)\n",
    "   * Brain-computer interface model, perhaps possible to adapt to more simplistic class id problem. This paper https://arxiv.org/abs/1611.08024.\n",
    "\n",
    "## Things to try\n",
    "   * Based on the above we could try taking coefficients from a FFT or power spectral density\n",
    "   * Since there are a lot of possible native 'features', we might try a data reduction technique like PCA to exact combinations of feature that correspond to 'designed' features that contain more relevant information about the underlying signal\n",
    "   * Similarly, we can use correlation analysis (and/or PCA) to find features correlated for one group that are more or less uncorrelated for the other group, thus, keeping these specific pairs should provide some discriminating features\n",
    "   * Along with a reduction in the features considered useful, we can try a naive Bayes with a few moment statistics as inputs \n",
    "   * Leaning toward PCA-reduced or correlation-based sub-selection of frequency/PSD features from individual sensors combined via PCA dominant eigen-vectors; \n",
    "   * Can also try with manually selected frequency features based on Gamma and Beta wave frequencies\n",
    "   * create encoder for one-hot on the match types (or just create three models), use 'alcoholic' or 'subject' as label\n",
    "\n",
    "### Basic Approaches\n",
    "   * standardize inputs: (value - (max-min)/2)/(max-min)\n",
    "   * NN (basic, fully connected, 3 layers, allow validation to tune size)\n",
    "   * Random forest\n",
    "   * SVM\n",
    "   * robust covariance\n",
    "   * ensemble of a few of the above\n",
    "\n",
    "    \n",
    "### To plot\n",
    "   * PSD feature outputs\n",
    "   * subsets of features for alcoholic / control on the Beta/Gamma wave feature frequencies\n",
    "   * loss and various accuracy metrics on training and test\n",
    "     \n"
   ]
  },
  {
   "cell_type": "code",
   "execution_count": null,
   "metadata": {
    "ExecuteTime": {
     "end_time": "2018-11-09T20:14:35.514100Z",
     "start_time": "2018-11-09T20:14:33.414243Z"
    }
   },
   "outputs": [],
   "source": [
    "from eeg_project.read_data import (import_eeg_file, GetClassId,\n",
    "    my_read_eeg_generic, senlist_known, match_types, SAMP_FREQ,\n",
    "    accumulate_subject_file_list, PSD_on_row_data, pass_through, zero, PSD_on_row_data, fft_on_row_data,\n",
    "    eeg_half_half_alcoholic_all_subjects_obj_40, eeg_half_half_alcoholic_all_subjects_obj_100,\n",
    "    eeg_half_half_alcoholic_all_subjects_match_100, eeg_half_half_alcoholic_all_subjects_nomatch_100)\n",
    "from eeg_project.plot_data import (plot_data_subject_dirs)\n",
    "\n",
    "import numpy as np\n",
    "import pandas as pd\n",
    "import os\n",
    "\n",
    "from six import text_type\n",
    "import gzip, bz2\n",
    "import tqdm \n",
    "from collections import defaultdict\n",
    "\n",
    "from matplotlib import pyplot, cm\n",
    "from mpl_toolkits.mplot3d import Axes3D\n",
    "# import ipywidgets as widgets\n",
    "from IPython.display import display, clear_output\n",
    "# %matplotlib notebook\n"
   ]
  },
  {
   "cell_type": "code",
   "execution_count": null,
   "metadata": {
    "ExecuteTime": {
     "end_time": "2018-11-09T20:09:30.765340Z",
     "start_time": "2018-11-09T20:09:30.761535Z"
    }
   },
   "outputs": [],
   "source": [
    "# data_dir = 'small_data_set'\n",
    "# data_dirs = [f'./{data_dir}/SMNI_CMI_TRAIN', f'./{data_dir}/SMNI_CMI_TEST']"
   ]
  },
  {
   "cell_type": "code",
   "execution_count": null,
   "metadata": {
    "ExecuteTime": {
     "end_time": "2018-11-09T20:15:44.120170Z",
     "start_time": "2018-11-09T20:15:10.317660Z"
    },
    "scrolled": false
   },
   "outputs": [],
   "source": [
    "# plot single data samples\n",
    "plots = dict(overlap=0, grid=0, threed=0, all_data_traces='nd')\n",
    "flist = plot_data_subject_dirs(#data_dirs, \n",
    "#                        file_list=eeg_half_half_alcoholic_all_subjects_obj_40,\n",
    "                       plots=plots,\n",
    "                       labelby='alcoholic',\n",
    "                       limitby=dict(match='obj'),\n",
    "                       transparency=.4,\n",
    "                       figsize=(15, 10),\n",
    "                       force_axes_same_scale=False,\n",
    "                       limit_mult_files=(200, [('subject', 20), ('alcoholic', 2)]),\n",
    "                       debug=1)"
   ]
  },
  {
   "cell_type": "code",
   "execution_count": null,
   "metadata": {
    "ExecuteTime": {
     "end_time": "2018-11-09T16:15:28.687605Z",
     "start_time": "2018-11-09T16:14:23.756779Z"
    },
    "scrolled": true
   },
   "outputs": [],
   "source": [
    "# plot overlaying traces for multiple subjects\n",
    "plots = dict(overlap=0, grid=1, threed=0, all_traces_one_sensor=None)\n",
    "flist = plot_data_subject_dirs(#data_dirs, \n",
    "   file_list=eeg_half_half_alcoholic_all_subjects_obj_100, \n",
    "   plots=dict(grid='square', all_data_traces=True),\n",
    "   labelby='alcoholic',\n",
    "   limitby=dict(match='obj'),\n",
    "   transparency=.3,\n",
    "   figsize=(18, 20),\n",
    "   force_axes_same_scale=False,\n",
    "#    yscale='log',\n",
    "#    limit_mult_files=(40, [('subject', 20), ('alcoholic', 2)]),\n",
    "   debug=0)"
   ]
  },
  {
   "cell_type": "code",
   "execution_count": null,
   "metadata": {
    "ExecuteTime": {
     "end_time": "2018-11-09T16:16:24.861254Z",
     "start_time": "2018-11-09T16:15:28.690512Z"
    },
    "scrolled": true
   },
   "outputs": [],
   "source": [
    "files = plot_data_subject_dirs(#data_dirs, \n",
    "   file_list=eeg_half_half_alcoholic_all_subjects_obj_100,\n",
    "   plots=dict(grid='square', all_data_traces=True),\n",
    "   yscale='linear',\n",
    "   labelby='alcoholic',\n",
    "   limitby=dict(match='obj'),\n",
    "   transparency=.25,\n",
    "   figsize=(20, 21),\n",
    "   force_axes_same_scale=False,\n",
    "#    limit_mult_files=(40, [('subject', 20), ('alcoholic', 2)]),\n",
    "   xrange=(-40, 40),\n",
    "#    yrange=(-1, 1500),\n",
    "   debug=0,\n",
    "   process_data=fft_on_row_data)"
   ]
  },
  {
   "cell_type": "code",
   "execution_count": null,
   "metadata": {
    "ExecuteTime": {
     "end_time": "2018-11-09T14:32:49.609177Z",
     "start_time": "2018-11-09T14:32:14.198316Z"
    },
    "scrolled": false
   },
   "outputs": [],
   "source": [
    "# plot single sensor FFT data samples\n",
    "plots = dict(overlap=0, grid=0, threed=0, all_data_traces='F8')\n",
    "flist = plot_data_subject_dirs(#data_dirs, \n",
    "   file_list=eeg_half_half_alcoholic_all_subjects_obj_100,\n",
    "   plots=plots,\n",
    "   labelby='alcoholic',\n",
    "#    limitby=dict(match='obj'),\n",
    "   transparency=.4,\n",
    "   figsize=(15, 10),\n",
    "   xrange=(-40, 40),        \n",
    "   force_axes_same_scale=False,\n",
    "#    limit_mult_files=(40, [('subject', 20), ('alcoholic', 2)]),\n",
    "   debug=0,\n",
    "   process_data=fft_on_row_data)\n",
    "\n",
    "flist = plot_data_subject_dirs(#data_dirs, \n",
    "   file_list=half_half_alcoholic_all_subjects_nomatch_100,\n",
    "   plots=plots,\n",
    "   labelby='alcoholic',\n",
    "#    limitby=dict(match='obj'),\n",
    "   transparency=.4,\n",
    "   figsize=(15, 10),\n",
    "   xrange=(-40, 40),        \n",
    "   force_axes_same_scale=False,\n",
    "#    limit_mult_files=(40, [('subject', 20), ('alcoholic', 2)]),\n",
    "   debug=0,\n",
    "   process_data=fft_on_row_data)\n",
    "\n",
    "flist = plot_data_subject_dirs(#data_dirs, \n",
    "   file_list=half_half_alcoholic_all_subjects_match_100,\n",
    "   plots=plots,\n",
    "   labelby='alcoholic',\n",
    "#    limitby=dict(match='obj'),\n",
    "   transparency=.4,\n",
    "   figsize=(15, 10),\n",
    "   xrange=(-40, 40),        \n",
    "   force_axes_same_scale=False,\n",
    "#    limit_mult_files=(40, [('subject', 20), ('alcoholic', 2)]),\n",
    "   debug=0,\n",
    "   process_data=fft_on_row_data)"
   ]
  },
  {
   "cell_type": "code",
   "execution_count": null,
   "metadata": {
    "ExecuteTime": {
     "end_time": "2018-11-09T14:31:19.112269Z",
     "start_time": "2018-11-09T14:30:37.464411Z"
    },
    "scrolled": true
   },
   "outputs": [],
   "source": [
    "files = plot_data_subject_dirs(#data_dirs, \n",
    "                       file_list=eeg_half_half_alcoholic_all_subjects_obj_100,\n",
    "                       plots=dict(grid='square', all_data_traces=True),\n",
    "                       yscale='linear',\n",
    "                       labelby='alcoholic',\n",
    "                       limitby=dict(match='obj'),\n",
    "                       transparency=.25,\n",
    "                       figsize=(20, 22),\n",
    "                       xrange=(-2, 30),        \n",
    "                       force_axes_same_scale=False,\n",
    "#                        limit_mult_files=(40, [('subject', 20), ('alcoholic', 2)]),\n",
    "                       debug=0,\n",
    "                       process_data=PSD_on_row_data)\n"
   ]
  },
  {
   "cell_type": "code",
   "execution_count": null,
   "metadata": {
    "ExecuteTime": {
     "end_time": "2018-11-09T16:14:23.752815Z",
     "start_time": "2018-11-09T16:13:45.081887Z"
    },
    "scrolled": false
   },
   "outputs": [],
   "source": [
    "files = plot_data_subject_dirs(#data_dirs, \n",
    "                       file_list=eeg_half_half_alcoholic_all_subjects_match_100,\n",
    "                       plots=dict(overlap=True, all_data_traces='POZ'),\n",
    "                       yscale='linear',\n",
    "                       labelby='alcoholic',\n",
    "#                        limitby=dict(match='match'),\n",
    "                       transparency=.25,\n",
    "                       figsize=(12, 6),\n",
    "                       xrange=(-2, 30),        \n",
    "                       force_axes_same_scale=False,\n",
    "                       debug=0,\n",
    "                       process_data=PSD_on_row_data)\n",
    "\n",
    "files = plot_data_subject_dirs(#data_dirs, \n",
    "                       file_list=eeg_half_half_alcoholic_all_subjects_nomatch_100,\n",
    "                       plots=dict(overlap=True, all_data_traces='POZ'),\n",
    "                       yscale='linear',\n",
    "                       labelby='alcoholic',\n",
    "#                        limitby=dict(match='nomatch'),\n",
    "                       transparency=.25,\n",
    "                       figsize=(12, 6),\n",
    "                       xrange=(-2, 30),        \n",
    "                       force_axes_same_scale=False,\n",
    "                       debug=0,\n",
    "                       process_data=PSD_on_row_data)"
   ]
  },
  {
   "cell_type": "code",
   "execution_count": null,
   "metadata": {
    "ExecuteTime": {
     "end_time": "2018-11-09T14:05:26.567583Z",
     "start_time": "2018-11-09T14:04:16.619438Z"
    },
    "scrolled": true
   },
   "outputs": [],
   "source": [
    "file_list, unq_items, total = accumulate_subject_file_list(data_dirs, limitby=dict(match='obj'),\n",
    "        limit_mult_files=(100, [('subject', 20), ('alcoholic', 2)]), df_type='wide', debug=1)\n",
    "unq_items"
   ]
  },
  {
   "cell_type": "code",
   "execution_count": null,
   "metadata": {
    "ExecuteTime": {
     "end_time": "2018-11-09T03:20:29.718457Z",
     "start_time": "2018-11-09T03:20:29.599428Z"
    },
    "scrolled": true
   },
   "outputs": [],
   "source": [
    "df, info = my_read_eeg_generic(\n",
    "    './small_data_set/SMNI_CMI_TRAIN/co2a0000364/co2a0000364.rd.002.gz', \n",
    "    orig_tt_indic=0)\n",
    "print(info)\n",
    "\n",
    "# fft_on_row_data(df.ind df.Z)\n",
    "x, Z, xlabel, ylabel = fft_on_row_data(df.index.values, df.values, 'time', 'voltage')\n",
    "x.shape, Z.shape"
   ]
  },
  {
   "cell_type": "code",
   "execution_count": null,
   "metadata": {},
   "outputs": [],
   "source": []
  },
  {
   "cell_type": "code",
   "execution_count": null,
   "metadata": {
    "ExecuteTime": {
     "end_time": "2018-11-09T03:20:07.307570Z",
     "start_time": "2018-11-09T03:20:07.304919Z"
    },
    "scrolled": false
   },
   "outputs": [],
   "source": [
    "# subject_data = pd.DataFrame({})\n",
    "# frame_list = []\n",
    "# for file in half_half_alcoholic_all_subjects_40:\n",
    "#     frame, info = my_read_eeg_generic(file, orig_tt_indic=('test' in file))\n",
    "# #     frame = pd.read_csv(file, names=columns)\n",
    "#     frame_list.append(frame)\n",
    "    \n",
    "# subject_data = pd.concat(frame_list, axis=0, join_axes=[frame.index, frame.columns])  # , ignore_index=True)\n",
    "                                  \n",
    "# subject_data"
   ]
  },
  {
   "cell_type": "code",
   "execution_count": 2,
   "metadata": {
    "ExecuteTime": {
     "end_time": "2018-11-10T05:08:22.118690Z",
     "start_time": "2018-11-10T05:08:21.673758Z"
    }
   },
   "outputs": [],
   "source": [
    "import torch\n",
    "torch.cat?"
   ]
  },
  {
   "cell_type": "code",
   "execution_count": null,
   "metadata": {},
   "outputs": [],
   "source": []
  }
 ],
 "metadata": {
  "kernelspec": {
   "display_name": "Python 3",
   "language": "python",
   "name": "python3"
  },
  "language_info": {
   "codemirror_mode": {
    "name": "ipython",
    "version": 3
   },
   "file_extension": ".py",
   "mimetype": "text/x-python",
   "name": "python",
   "nbconvert_exporter": "python",
   "pygments_lexer": "ipython3",
   "version": "3.6.5"
  },
  "latex_envs": {
   "LaTeX_envs_menu_present": true,
   "autoclose": false,
   "autocomplete": true,
   "bibliofile": "biblio.bib",
   "cite_by": "apalike",
   "current_citInitial": 1,
   "eqLabelWithNumbers": true,
   "eqNumInitial": 1,
   "hotkeys": {
    "equation": "Ctrl-E",
    "itemize": "Ctrl-I"
   },
   "labels_anchors": false,
   "latex_user_defs": false,
   "report_style_numbering": false,
   "user_envs_cfg": false
  }
 },
 "nbformat": 4,
 "nbformat_minor": 2
}
